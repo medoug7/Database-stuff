{
 "cells": [
  {
   "cell_type": "code",
   "execution_count": 1,
   "metadata": {},
   "outputs": [],
   "source": [
    "import numpy as np\n",
    "import mysql.connector"
   ]
  },
  {
   "cell_type": "markdown",
   "metadata": {},
   "source": [
    "# Basic MySQL stuff\n",
    "\n",
    "This notebook follows the minicourse video series from https://www.youtube.com/playlist?list=PLzMcBGfZo4-l5kVSNVKGO60V6RkXAVtp-"
   ]
  },
  {
   "cell_type": "markdown",
   "metadata": {},
   "source": [
    "## First: How to access the database and create new tables"
   ]
  },
  {
   "cell_type": "code",
   "execution_count": 4,
   "metadata": {
    "collapsed": true,
    "scrolled": true
   },
   "outputs": [],
   "source": [
    "### CONNECT TO SERVER AND CREATE DATABASE\n",
    "\n",
    "# connect to server\n",
    "db = mysql.connector.connect(host=\"localhost\",\n",
    "                            user = \"root\", passwd = \"root\")\n",
    "\n",
    "# create a cursor to do queries\n",
    "mycursor = db.cursor()\n",
    "# create testdatabase\n",
    "mycursor.execute(\"CREATE DATABASE testdatabase\")\n",
    "\n",
    "###########"
   ]
  },
  {
   "cell_type": "code",
   "execution_count": 2,
   "metadata": {
    "collapsed": true
   },
   "outputs": [],
   "source": [
    "# Now access the database\n",
    "# connect to server\n",
    "db = mysql.connector.connect(host=\"localhost\",\n",
    "                            user = \"root\", passwd = \"root\", database='testdatabase')\n",
    "mycursor = db.cursor()"
   ]
  },
  {
   "cell_type": "markdown",
   "metadata": {},
   "source": [
    "Lets create a new table caled person with columms  (col1 variable type, col2 variabtyp2, ...)\n",
    "\n",
    "#### We'll use the commands below, but for more options see https://www.w3schools.com/sql/sql_syntax.asp\n",
    "\n",
    "VARCHAR(n): string of n digits,  smallint: allocate small memory,  UNSIGNED: just positive (no sign),  PRIMARY KEY: unique ID,  AUTO_INCREMENT: modify id for every new entry\n",
    "}"
   ]
  },
  {
   "cell_type": "code",
   "execution_count": 19,
   "metadata": {
    "collapsed": true
   },
   "outputs": [],
   "source": [
    "mycursor.execute(\"CREATE TABLE person (name VARCHAR(50), age smallint UNSIGNED, personID int PRIMARY KEY AUTO_INCREMENT)\")"
   ]
  },
  {
   "cell_type": "code",
   "execution_count": 20,
   "metadata": {},
   "outputs": [
    {
     "name": "stdout",
     "output_type": "stream",
     "text": [
      "('name', 'varchar(50)', 'YES', '', None, '')\n",
      "('age', 'smallint unsigned', 'YES', '', None, '')\n",
      "('personID', 'int', 'NO', 'PRI', None, 'auto_increment')\n"
     ]
    }
   ],
   "source": [
    "# check the description of table\n",
    "mycursor.execute(\"DESCRIBE Person\")\n",
    "\n",
    "for x in mycursor:\n",
    "    print(x)"
   ]
  },
  {
   "cell_type": "code",
   "execution_count": 21,
   "metadata": {
    "collapsed": true
   },
   "outputs": [],
   "source": [
    "# add line\n",
    "mycursor.execute(\"INSERT INTO Person (name, age) VALUES ('Doug', 26)\")"
   ]
  },
  {
   "cell_type": "code",
   "execution_count": 22,
   "metadata": {
    "collapsed": true
   },
   "outputs": [],
   "source": [
    "# But its better to do it like this:\n",
    "new = ('Douglas', 26)\n",
    "mycursor.execute(\"INSERT INTO Person (name, age) VALUES (%s, %s)\", (new[0], new[1]))\n",
    "\n",
    "# commit changes to database\n",
    "db.commit()"
   ]
  },
  {
   "cell_type": "code",
   "execution_count": 23,
   "metadata": {},
   "outputs": [
    {
     "name": "stdout",
     "output_type": "stream",
     "text": [
      "('Doug', 26, 1)\n",
      "('Douglas', 26, 2)\n"
     ]
    }
   ],
   "source": [
    "# in order to read the table we do\n",
    "mycursor.execute(\"SELECT * FROM person\")\n",
    "\n",
    "for x in mycursor:\n",
    "    print(x)"
   ]
  },
  {
   "cell_type": "code",
   "execution_count": 24,
   "metadata": {
    "collapsed": true
   },
   "outputs": [],
   "source": [
    "# if we want to delete a table we use\n",
    "mycursor.execute(\"Drop TABLE Person\")"
   ]
  },
  {
   "cell_type": "markdown",
   "metadata": {},
   "source": [
    "Lets do a new one"
   ]
  },
  {
   "cell_type": "code",
   "execution_count": 46,
   "metadata": {
    "collapsed": true
   },
   "outputs": [],
   "source": [
    "from datetime import datetime\n",
    "\n",
    "#mycursor.execute(\"Drop TABLE test\")\n",
    "\n",
    "# Enum(...) sets this variable to one of other options\n",
    "mycursor.execute(\"CREATE TABLE test (name VARCHAR(50) NOT NULL, created datetime NOT NULL, gender ENUM('M', 'F', 'O') NOT NULL, id int PRIMARY KEY NOT NULL AUTO_INCREMENT)\")\n",
    "\n",
    "mycursor.execute(\"INSERT INTO test (name, created, gender) VALUES (%s, %s,%s) \", (\"Doug\", datetime.now(), \"M\"))\n",
    "mycursor.execute(\"INSERT INTO test (name, created, gender) VALUES (%s, %s,%s) \", (\"Dalila\", datetime.now(), \"F\"))\n",
    "mycursor.execute(\"INSERT INTO test (name, created, gender) VALUES (%s, %s,%s) \", (\"bob\", datetime.now(), \"M\"))\n",
    "mycursor.execute(\"INSERT INTO test (name, created, gender) VALUES (%s, %s,%s) \", (\"marley\", datetime.now(), \"M\"))\n",
    "\n",
    "db.commit()\n"
   ]
  },
  {
   "cell_type": "code",
   "execution_count": 47,
   "metadata": {},
   "outputs": [
    {
     "name": "stdout",
     "output_type": "stream",
     "text": [
      "('marley', datetime.datetime(2022, 12, 8, 17, 32, 41), 'M', 4)\n",
      "('bob', datetime.datetime(2022, 12, 8, 17, 32, 41), 'M', 3)\n",
      "('Doug', datetime.datetime(2022, 12, 8, 17, 32, 41), 'M', 1)\n",
      "\n",
      "\n",
      "marley\n",
      "bob\n",
      "Doug\n"
     ]
    }
   ],
   "source": [
    "# Lets show all the entries with the \"M\" gender, and order by a column of our choosing\n",
    "mycursor.execute(\"SELECT * FROM test WHERE gender = 'M' ORDER BY id DESC\")\n",
    "for x in mycursor:\n",
    "    print(x)\n",
    "    \n",
    "print('\\n')\n",
    "# Or we can select only one property from that giver table entry, like the name\n",
    "mycursor.execute(\"SELECT name FROM test WHERE gender = 'M' ORDER BY id DESC\")\n",
    "for x in mycursor:\n",
    "    print(x[0])"
   ]
  },
  {
   "cell_type": "code",
   "execution_count": 48,
   "metadata": {},
   "outputs": [
    {
     "name": "stdout",
     "output_type": "stream",
     "text": [
      "('name', 'varchar(50)', 'NO', '', None, '')\n",
      "('created', 'datetime', 'NO', '', None, '')\n",
      "('gender', \"enum('M','F','O')\", 'NO', '', None, '')\n",
      "('id', 'int', 'NO', 'PRI', None, 'auto_increment')\n",
      "('food', 'varchar(20)', 'NO', '', None, '')\n"
     ]
    }
   ],
   "source": [
    "# lets try adding a new collumn to save that person's favorite food\n",
    "mycursor.execute(\"ALTER TABLE test ADD COLUMN food VARCHAR(20) NOT NULL\")\n",
    "\n",
    "# look at table\n",
    "mycursor.execute(\"DESCRIBE test\")\n",
    "for x in mycursor:\n",
    "    print(x)"
   ]
  },
  {
   "cell_type": "code",
   "execution_count": 49,
   "metadata": {},
   "outputs": [
    {
     "name": "stdout",
     "output_type": "stream",
     "text": [
      "('name', 'varchar(50)', 'NO', '', None, '')\n",
      "('created', 'datetime', 'NO', '', None, '')\n",
      "('gender', \"enum('M','F','O')\", 'NO', '', None, '')\n",
      "('id', 'int', 'NO', 'PRI', None, 'auto_increment')\n"
     ]
    }
   ],
   "source": [
    "# if you want to delete a collumn use DROP\n",
    "mycursor.execute(\"ALTER TABLE test DROP food\")\n",
    "\n",
    "# look at table\n",
    "mycursor.execute(\"DESCRIBE test\")\n",
    "for x in mycursor:\n",
    "    print(x)"
   ]
  },
  {
   "cell_type": "code",
   "execution_count": 50,
   "metadata": {},
   "outputs": [
    {
     "name": "stdout",
     "output_type": "stream",
     "text": [
      "('first_name', 'varchar(20)', 'NO', '', None, '')\n",
      "('created', 'datetime', 'NO', '', None, '')\n",
      "('gender', \"enum('M','F','O')\", 'NO', '', None, '')\n",
      "('id', 'int', 'NO', 'PRI', None, 'auto_increment')\n"
     ]
    }
   ],
   "source": [
    "# if we want to change a column\n",
    "mycursor.execute(\"ALTER TABLE test CHANGE name first_name varchar(20) NOT NULL\")\n",
    "\n",
    "# NOTE: when changing a non-empity table, make sure the new variable type and size\n",
    "#       are compatible with the previously set values\n",
    "\n",
    "# look at table\n",
    "mycursor.execute(\"DESCRIBE test\")\n",
    "for x in mycursor:\n",
    "    print(x)\n",
    "    \n",
    "mycursor.execute(\"Drop TABLE test\")"
   ]
  },
  {
   "cell_type": "markdown",
   "metadata": {},
   "source": [
    "## Foreign Keys & Relating Tables \n",
    "\n",
    "Lets see some examples of how to link and relate different tables"
   ]
  },
  {
   "cell_type": "code",
   "execution_count": 74,
   "metadata": {
    "collapsed": true
   },
   "outputs": [],
   "source": [
    "# connect to server\n",
    "db = mysql.connector.connect(host=\"localhost\",\n",
    "                            user = \"root\", passwd = \"root\", database=\"testdatabase\")\n",
    "\n",
    "\n",
    "users = [('Doug', 'medoug7', 'senha123'),\n",
    "         ('Emilia', 'emil', 'senhaaa'),\n",
    "         ('Fred', 'fredfredfred', 'senha1234'),\n",
    "         ('Otavia', 'otah', 'senhaaa')]\n",
    "\n",
    "scores = [(45, 100), (30, 200), (46, 124), (23, 32)]\n",
    "\n",
    "#mycursor.execute(\"Drop TABLE Scores\")\n",
    "#mycursor.execute(\"Drop TABLE Users\")\n",
    "\n",
    "\n",
    "mycursor = db.cursor()\n",
    "\n",
    "# We can store our commands/queries in str variables\n",
    "Q1 = \"CREATE TABLE Users (id int PRIMARY KEY AUTO_INCREMENT, name varchar(25), username varchar(25), passwd varchar(25))\"\n",
    "\n",
    "# this is how we link the info from one table in the other\n",
    "Q2 = \"CREATE TABLE Scores (userId int PRIMARY KEY, FOREIGN KEY(userId) references Users(id), game1 int DEFAULT 0, game2 int DEFAULT 0)\"\n",
    "\n",
    "mycursor.execute(Q1)\n",
    "mycursor.execute(Q2)"
   ]
  },
  {
   "cell_type": "code",
   "execution_count": 75,
   "metadata": {},
   "outputs": [
    {
     "name": "stdout",
     "output_type": "stream",
     "text": [
      "('scores',)\n",
      "('users',)\n"
     ]
    }
   ],
   "source": [
    "mycursor.execute(\"SHOW TABLES\")\n",
    "for x in mycursor:\n",
    "    print(x)"
   ]
  },
  {
   "cell_type": "markdown",
   "metadata": {},
   "source": [
    "Now lets add the lists \"users\" and \"scores\" to the tables"
   ]
  },
  {
   "cell_type": "code",
   "execution_count": 76,
   "metadata": {
    "collapsed": true
   },
   "outputs": [],
   "source": [
    "# we can do it like this, adding all listed items at once\n",
    "#mycursor.executemany(\"INSERT INTO Users (name, username, passwd) VALUES (%s, %s, %s)\", users)\n",
    "\n",
    "# or we can update both tables with the same for-loop:\n",
    "Q3 = \"INSERT INTO Users (name, username, passwd) VALUES (%s, %s, %s)\"\n",
    "Q4 = \"INSERT INTO Scores (userId, game1, game2) VALUES (%s, %s, %s)\"\n",
    "\n",
    "for x, user in enumerate(users):\n",
    "    mycursor.execute(Q3, user)\n",
    "    \n",
    "    last_id = mycursor.lastrowid\n",
    "    mycursor.execute(Q4, (last_id,) + scores[x])\n",
    "\n",
    "db.commit()"
   ]
  },
  {
   "cell_type": "code",
   "execution_count": 77,
   "metadata": {},
   "outputs": [
    {
     "name": "stdout",
     "output_type": "stream",
     "text": [
      "(1, 'Doug', 'medoug7', 'senha123')\n",
      "(2, 'Emilia', 'emil', 'senhaaa')\n",
      "(3, 'Fred', 'fredfredfred', 'senha1234')\n",
      "(4, 'Otavia', 'otah', 'senhaaa')\n",
      "\n",
      "\n",
      "(1, 45, 100)\n",
      "(2, 30, 200)\n",
      "(3, 46, 124)\n",
      "(4, 23, 32)\n"
     ]
    }
   ],
   "source": [
    "mycursor.execute(\"SELECT * FROM Users\")\n",
    "for x in mycursor:\n",
    "    print(x)\n",
    "\n",
    "print('\\n')\n",
    "    \n",
    "mycursor.execute(\"SELECT * FROM Scores\")\n",
    "for x in mycursor:\n",
    "    print(x)"
   ]
  },
  {
   "cell_type": "markdown",
   "metadata": {
    "collapsed": true
   },
   "source": [
    "## test "
   ]
  },
  {
   "cell_type": "code",
   "execution_count": 9,
   "metadata": {},
   "outputs": [
    {
     "ename": "DatabaseError",
     "evalue": "3780 (HY000): Referencing column 'cardId' and referenced column 'card' in foreign key constraint 'transac_ibfk_1' are incompatible.",
     "output_type": "error",
     "traceback": [
      "\u001b[1;31m---------------------------------------------------------------------------\u001b[0m",
      "\u001b[1;31mDatabaseError\u001b[0m                             Traceback (most recent call last)",
      "\u001b[1;32m<ipython-input-9-559922d74179>\u001b[0m in \u001b[0;36m<module>\u001b[1;34m()\u001b[0m\n\u001b[0;32m     26\u001b[0m \u001b[1;33m\u001b[0m\u001b[0m\n\u001b[0;32m     27\u001b[0m \u001b[0mmycursor\u001b[0m\u001b[1;33m.\u001b[0m\u001b[0mexecute\u001b[0m\u001b[1;33m(\u001b[0m\u001b[0mQ1\u001b[0m\u001b[1;33m)\u001b[0m\u001b[1;33m\u001b[0m\u001b[0m\n\u001b[1;32m---> 28\u001b[1;33m \u001b[0mmycursor\u001b[0m\u001b[1;33m.\u001b[0m\u001b[0mexecute\u001b[0m\u001b[1;33m(\u001b[0m\u001b[0mQ2\u001b[0m\u001b[1;33m)\u001b[0m\u001b[1;33m\u001b[0m\u001b[0m\n\u001b[0m",
      "\u001b[1;32mC:\\ProgramData\\Anaconda3\\lib\\site-packages\\mysql\\connector\\cursor.py\u001b[0m in \u001b[0;36mexecute\u001b[1;34m(self, operation, params, multi)\u001b[0m\n\u001b[0;32m    562\u001b[0m \u001b[1;33m\u001b[0m\u001b[0m\n\u001b[0;32m    563\u001b[0m         \u001b[1;32mtry\u001b[0m\u001b[1;33m:\u001b[0m\u001b[1;33m\u001b[0m\u001b[0m\n\u001b[1;32m--> 564\u001b[1;33m             \u001b[0mself\u001b[0m\u001b[1;33m.\u001b[0m\u001b[0m_handle_result\u001b[0m\u001b[1;33m(\u001b[0m\u001b[0mself\u001b[0m\u001b[1;33m.\u001b[0m\u001b[0m_connection\u001b[0m\u001b[1;33m.\u001b[0m\u001b[0mcmd_query\u001b[0m\u001b[1;33m(\u001b[0m\u001b[0mstmt\u001b[0m\u001b[1;33m)\u001b[0m\u001b[1;33m)\u001b[0m\u001b[1;33m\u001b[0m\u001b[0m\n\u001b[0m\u001b[0;32m    565\u001b[0m         \u001b[1;32mexcept\u001b[0m \u001b[0mInterfaceError\u001b[0m \u001b[1;32mas\u001b[0m \u001b[0merr\u001b[0m\u001b[1;33m:\u001b[0m\u001b[1;33m\u001b[0m\u001b[0m\n\u001b[0;32m    566\u001b[0m             \u001b[1;32mif\u001b[0m \u001b[0mself\u001b[0m\u001b[1;33m.\u001b[0m\u001b[0m_connection\u001b[0m\u001b[1;33m.\u001b[0m\u001b[0mhave_next_result\u001b[0m\u001b[1;33m:\u001b[0m\u001b[1;33m\u001b[0m\u001b[0m\n",
      "\u001b[1;32mC:\\ProgramData\\Anaconda3\\lib\\site-packages\\mysql\\connector\\connection.py\u001b[0m in \u001b[0;36mcmd_query\u001b[1;34m(self, query, raw, buffered, raw_as_string)\u001b[0m\n\u001b[0;32m    988\u001b[0m         \u001b[0mquery\u001b[0m \u001b[1;33m=\u001b[0m \u001b[0mbytes\u001b[0m\u001b[1;33m(\u001b[0m\u001b[0mpacket\u001b[0m\u001b[1;33m)\u001b[0m\u001b[1;33m\u001b[0m\u001b[0m\n\u001b[0;32m    989\u001b[0m         \u001b[1;32mtry\u001b[0m\u001b[1;33m:\u001b[0m\u001b[1;33m\u001b[0m\u001b[0m\n\u001b[1;32m--> 990\u001b[1;33m             \u001b[0mresult\u001b[0m \u001b[1;33m=\u001b[0m \u001b[0mself\u001b[0m\u001b[1;33m.\u001b[0m\u001b[0m_handle_result\u001b[0m\u001b[1;33m(\u001b[0m\u001b[0mself\u001b[0m\u001b[1;33m.\u001b[0m\u001b[0m_send_cmd\u001b[0m\u001b[1;33m(\u001b[0m\u001b[0mServerCmd\u001b[0m\u001b[1;33m.\u001b[0m\u001b[0mQUERY\u001b[0m\u001b[1;33m,\u001b[0m \u001b[0mquery\u001b[0m\u001b[1;33m)\u001b[0m\u001b[1;33m)\u001b[0m\u001b[1;33m\u001b[0m\u001b[0m\n\u001b[0m\u001b[0;32m    991\u001b[0m         \u001b[1;32mexcept\u001b[0m \u001b[0mProgrammingError\u001b[0m \u001b[1;32mas\u001b[0m \u001b[0merr\u001b[0m\u001b[1;33m:\u001b[0m\u001b[1;33m\u001b[0m\u001b[0m\n\u001b[0;32m    992\u001b[0m             \u001b[1;32mif\u001b[0m \u001b[0merr\u001b[0m\u001b[1;33m.\u001b[0m\u001b[0merrno\u001b[0m \u001b[1;33m==\u001b[0m \u001b[1;36m3948\u001b[0m \u001b[1;32mand\u001b[0m \u001b[1;34m\"Loading local data is disabled\"\u001b[0m \u001b[1;32min\u001b[0m \u001b[0merr\u001b[0m\u001b[1;33m.\u001b[0m\u001b[0mmsg\u001b[0m\u001b[1;33m:\u001b[0m\u001b[1;33m\u001b[0m\u001b[0m\n",
      "\u001b[1;32mC:\\ProgramData\\Anaconda3\\lib\\site-packages\\mysql\\connector\\connection.py\u001b[0m in \u001b[0;36m_handle_result\u001b[1;34m(self, packet)\u001b[0m\n\u001b[0;32m    782\u001b[0m             \u001b[1;32mreturn\u001b[0m \u001b[0mself\u001b[0m\u001b[1;33m.\u001b[0m\u001b[0m_handle_eof\u001b[0m\u001b[1;33m(\u001b[0m\u001b[0mpacket\u001b[0m\u001b[1;33m)\u001b[0m\u001b[1;33m\u001b[0m\u001b[0m\n\u001b[0;32m    783\u001b[0m         \u001b[1;32mif\u001b[0m \u001b[0mpacket\u001b[0m\u001b[1;33m[\u001b[0m\u001b[1;36m4\u001b[0m\u001b[1;33m]\u001b[0m \u001b[1;33m==\u001b[0m \u001b[1;36m255\u001b[0m\u001b[1;33m:\u001b[0m\u001b[1;33m\u001b[0m\u001b[0m\n\u001b[1;32m--> 784\u001b[1;33m             \u001b[1;32mraise\u001b[0m \u001b[0mget_exception\u001b[0m\u001b[1;33m(\u001b[0m\u001b[0mpacket\u001b[0m\u001b[1;33m)\u001b[0m\u001b[1;33m\u001b[0m\u001b[0m\n\u001b[0m\u001b[0;32m    785\u001b[0m \u001b[1;33m\u001b[0m\u001b[0m\n\u001b[0;32m    786\u001b[0m         \u001b[1;31m# We have a text result set\u001b[0m\u001b[1;33m\u001b[0m\u001b[1;33m\u001b[0m\u001b[0m\n",
      "\u001b[1;31mDatabaseError\u001b[0m: 3780 (HY000): Referencing column 'cardId' and referenced column 'card' in foreign key constraint 'transac_ibfk_1' are incompatible."
     ]
    }
   ],
   "source": [
    "# connect to server\n",
    "db = mysql.connector.connect(host=\"localhost\",\n",
    "                            user = \"root\", passwd = \"root\", database=\"testdatabase\")\n",
    "\n",
    "\n",
    "trans = [(3213, 20),\n",
    "         (3213, 30),\n",
    "         (3213, 50),\n",
    "         (7624, 10),\n",
    "         (7624, 5),\n",
    "         (2121, 25)]\n",
    "\n",
    "cards = [(4433, 3213), (2134, 7624), (9987, 2121), (8765, 9864)]\n",
    "\n",
    "\n",
    "mycursor = db.cursor()\n",
    "\n",
    "mycursor.execute(\"Drop TABLE Carts\")\n",
    "#mycursor.execute(\"Drop TABLE Transac\")\n",
    "\n",
    "# We can store our commands/queries in str variables\n",
    "Q1 = \"CREATE TABLE Carts (clientId int, card varchar(10))\"\n",
    "# this is how we link the info from one table in the other\n",
    "Q2 = \"CREATE TABLE Transac (cardId int, FOREIGN KEY(cardId) references Carts(card), value varchar(10))\"\n",
    "\n",
    "\n",
    "mycursor.execute(Q1)\n",
    "mycursor.execute(Q2)"
   ]
  },
  {
   "cell_type": "code",
   "execution_count": null,
   "metadata": {
    "collapsed": true
   },
   "outputs": [],
   "source": []
  }
 ],
 "metadata": {
  "kernelspec": {
   "display_name": "Python 3",
   "language": "python",
   "name": "python3"
  },
  "language_info": {
   "codemirror_mode": {
    "name": "ipython",
    "version": 3
   },
   "file_extension": ".py",
   "mimetype": "text/x-python",
   "name": "python",
   "nbconvert_exporter": "python",
   "pygments_lexer": "ipython3",
   "version": "3.6.3"
  }
 },
 "nbformat": 4,
 "nbformat_minor": 2
}
