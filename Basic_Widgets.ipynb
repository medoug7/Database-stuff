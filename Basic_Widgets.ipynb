{
 "cells": [
  {
   "cell_type": "code",
   "execution_count": 1,
   "id": "0b963853",
   "metadata": {},
   "outputs": [],
   "source": [
    "import ipywidgets as widgets\n",
    "from ipywidgets import HBox, VBox\n",
    "import numpy as np\n",
    "import matplotlib.pyplot as plt\n",
    "from IPython.display import display\n",
    "%matplotlib inline"
   ]
  },
  {
   "cell_type": "markdown",
   "id": "e241c77d",
   "metadata": {},
   "source": [
    "This tutorial was done following https://saturncloud.io/blog/understanding-jupyter-notebook-widgets/ and https://ipython-books.github.io/33-mastering-widgets-in-the-jupyter-notebook/"
   ]
  },
  {
   "cell_type": "code",
   "execution_count": 7,
   "id": "b5376020",
   "metadata": {},
   "outputs": [
    {
     "data": {
      "application/vnd.jupyter.widget-view+json": {
       "model_id": "86b2bd259aa845d2823624d906e2a09b",
       "version_major": 2,
       "version_minor": 0
      },
      "text/plain": [
       "IntSlider(value=5, max=10)"
      ]
     },
     "execution_count": 7,
     "metadata": {},
     "output_type": "execute_result"
    }
   ],
   "source": [
    "# basic slider\n",
    "slider0 = widgets.IntSlider(value=5, min=0, max=10, step=1)\n",
    "slider0"
   ]
  },
  {
   "cell_type": "code",
   "execution_count": 3,
   "id": "e5727f5d",
   "metadata": {},
   "outputs": [
    {
     "data": {
      "text/plain": [
       "5"
      ]
     },
     "execution_count": 3,
     "metadata": {},
     "output_type": "execute_result"
    }
   ],
   "source": [
    "current_value = slider0.value\n",
    "current_value"
   ]
  },
  {
   "cell_type": "markdown",
   "id": "13f019dc",
   "metadata": {},
   "source": [
    "We can define our own sliders"
   ]
  },
  {
   "cell_type": "code",
   "execution_count": 4,
   "id": "bce6b422",
   "metadata": {},
   "outputs": [
    {
     "data": {
      "application/vnd.jupyter.widget-view+json": {
       "model_id": "72cd862221984abda6e9f51bedd6565f",
       "version_major": 2,
       "version_minor": 0
      },
      "text/plain": [
       "FloatSlider(value=2.0, description='Frequency:', max=6.0, min=1.0, readout_format='.1f', step=0.5)"
      ]
     },
     "execution_count": 4,
     "metadata": {},
     "output_type": "execute_result"
    }
   ],
   "source": [
    "freq_slider = widgets.FloatSlider(\n",
    "    value=2.,\n",
    "    min=1.,\n",
    "    max=6.0,\n",
    "    step=0.5,\n",
    "    description='Frequency:',\n",
    "    readout_format='.1f')\n",
    "\n",
    "freq_slider"
   ]
  },
  {
   "cell_type": "code",
   "execution_count": 5,
   "id": "0733af89",
   "metadata": {},
   "outputs": [
    {
     "data": {
      "application/vnd.jupyter.widget-view+json": {
       "model_id": "2d65b7cc52834726ab41c5164d1b2d62",
       "version_major": 2,
       "version_minor": 0
      },
      "text/plain": [
       "FloatRangeSlider(value=(-1.0, 1.0), description='xlim:', max=5.0, min=-5.0, readout_format='.1f')"
      ]
     },
     "execution_count": 5,
     "metadata": {},
     "output_type": "execute_result"
    }
   ],
   "source": [
    "range_slider = widgets.FloatRangeSlider(\n",
    "    value=[-1., +1.],\n",
    "    min=-5., max=+5., step=0.1,\n",
    "    description='xlim:',\n",
    "    readout_format='.1f')\n",
    "range_slider"
   ]
  },
  {
   "cell_type": "code",
   "execution_count": 6,
   "id": "8e481d43",
   "metadata": {},
   "outputs": [
    {
     "data": {
      "application/vnd.jupyter.widget-view+json": {
       "model_id": "c32f02a1fff64319a2ea875f0b098d8b",
       "version_major": 2,
       "version_minor": 0
      },
      "text/plain": [
       "ToggleButton(value=False, description='Grid', icon='check')"
      ]
     },
     "execution_count": 6,
     "metadata": {},
     "output_type": "execute_result"
    }
   ],
   "source": [
    "# we can even create buttons to store booleans\n",
    "grid_button = widgets.ToggleButton(\n",
    "    value=False,\n",
    "    description='Grid',\n",
    "    icon='check')\n",
    "\n",
    "grid_button"
   ]
  },
  {
   "cell_type": "code",
   "execution_count": 7,
   "id": "36891fec",
   "metadata": {},
   "outputs": [
    {
     "data": {
      "application/vnd.jupyter.widget-view+json": {
       "model_id": "9a4381defb4e49f5aad9af0ff37c021b",
       "version_major": 2,
       "version_minor": 0
      },
      "text/plain": [
       "ToggleButtons(description='Color:', options=('blue', 'red', 'green'), value='blue')"
      ]
     },
     "execution_count": 7,
     "metadata": {},
     "output_type": "execute_result"
    }
   ],
   "source": [
    "# or choosing from a list of values\n",
    "color_buttons = widgets.ToggleButtons(\n",
    "    options=['blue', 'red', 'green'],\n",
    "    description='Color:')\n",
    "\n",
    "color_buttons"
   ]
  },
  {
   "cell_type": "code",
   "execution_count": 8,
   "id": "03c43e58",
   "metadata": {},
   "outputs": [
    {
     "data": {
      "application/vnd.jupyter.widget-view+json": {
       "model_id": "1bb7c6f257d9487db1bed09d669612e6",
       "version_major": 2,
       "version_minor": 0
      },
      "text/plain": [
       "Text(value='Hello World', description='Title:')"
      ]
     },
     "execution_count": 8,
     "metadata": {},
     "output_type": "execute_result"
    }
   ],
   "source": [
    "# and writing into a textbox\n",
    "title_textbox = widgets.Text(\n",
    "    value='Hello World',\n",
    "    description='Title:',)\n",
    "\n",
    "title_textbox"
   ]
  },
  {
   "cell_type": "markdown",
   "id": "ad2821f9",
   "metadata": {},
   "source": [
    "## function interaction"
   ]
  },
  {
   "cell_type": "markdown",
   "id": "74c4777b",
   "metadata": {},
   "source": [
    "Widgets can also be used to interact with functions. The interact function from ipywidgets allows you to create a widget that interacts with a function. Here’s an example:"
   ]
  },
  {
   "cell_type": "code",
   "execution_count": 9,
   "id": "2f23def0",
   "metadata": {},
   "outputs": [
    {
     "data": {
      "application/vnd.jupyter.widget-view+json": {
       "model_id": "5310fcf2d11b462fa275f1e851b0291d",
       "version_major": 2,
       "version_minor": 0
      },
      "text/plain": [
       "interactive(children=(IntSlider(value=0, description='x', max=5), Output()), _dom_classes=('widget-interact',)…"
      ]
     },
     "metadata": {},
     "output_type": "display_data"
    }
   ],
   "source": [
    "@widgets.interact(x=(0, 5))\n",
    "def f(x=0):\n",
    "    print(x)"
   ]
  },
  {
   "cell_type": "code",
   "execution_count": 10,
   "id": "a402134b",
   "metadata": {},
   "outputs": [
    {
     "data": {
      "application/vnd.jupyter.widget-view+json": {
       "model_id": "c09b76744b2d46bf8e399aa1f81f2cce",
       "version_major": 2,
       "version_minor": 0
      },
      "text/plain": [
       "interactive(children=(Text(value='Jupyter', description='name'), IntSlider(value=2, description='count', max=6…"
      ]
     },
     "metadata": {},
     "output_type": "display_data"
    }
   ],
   "source": [
    "@widgets.interact\n",
    "def greet(name=\"Jupyter\", count=2):\n",
    "    for i in range(count):\n",
    "        print(f\"Hello,{name}!\")"
   ]
  },
  {
   "cell_type": "code",
   "execution_count": 11,
   "id": "049348ba",
   "metadata": {},
   "outputs": [
    {
     "name": "stdout",
     "output_type": "stream",
     "text": [
      "Hello,Jupyter!\n",
      "Hello,Jupyter!\n",
      "Hello,Jupyter!\n",
      "Hello,Jupyter!\n",
      "Hello,Jupyter!\n",
      "Hello,Jupyter!\n",
      "Hello,Jupyter!\n",
      "Hello,Jupyter!\n",
      "Hello,Jupyter!\n",
      "Hello,Jupyter!\n"
     ]
    }
   ],
   "source": [
    "greet(count=10)"
   ]
  },
  {
   "cell_type": "markdown",
   "id": "1ca2273f",
   "metadata": {},
   "source": [
    "There is also an @interact_manual decorator which provides a button to call the function manually"
   ]
  },
  {
   "cell_type": "code",
   "execution_count": 12,
   "id": "08801b6f",
   "metadata": {
    "scrolled": false
   },
   "outputs": [
    {
     "data": {
      "application/vnd.jupyter.widget-view+json": {
       "model_id": "e7bb4c4395a24ec18787edbd77c677a5",
       "version_major": 2,
       "version_minor": 0
      },
      "text/plain": [
       "interactive(children=(FloatSlider(value=2.0, description='Frequency:', max=6.0, min=1.0, readout_format='.1f',…"
      ]
     },
     "metadata": {},
     "output_type": "display_data"
    }
   ],
   "source": [
    "#@widgets.interact_manual(freq=freq_slider, color=['blue', 'red', 'green'])\n",
    "@widgets.interact(freq=freq_slider, color=color_buttons)\n",
    "def plot(freq=4., color='blue', grid=True):\n",
    "    t = np.linspace(0., +1., 1000)\n",
    "    fig, ax = plt.subplots(1, 1, figsize=(5, 3))\n",
    "    ax.plot(t, np.sin(2 * np.pi * freq * t),\n",
    "            lw=2, color=color)\n",
    "    ax.grid(grid)"
   ]
  },
  {
   "cell_type": "markdown",
   "id": "5f68ef87",
   "metadata": {},
   "source": [
    "Now, we will see how to combine these widgets into a complex graphical user interface, and how to react to user interactions with these controls. We create a function that will display a plot as defined by the created controls."
   ]
  },
  {
   "cell_type": "code",
   "execution_count": 29,
   "id": "8a983f5d",
   "metadata": {},
   "outputs": [],
   "source": [
    "plot_button = widgets.Button(description='Plot')\n",
    "\n",
    "\n",
    "def plot2(b=None):\n",
    "    xlim = range_slider.value\n",
    "    freq = freq_slider.value\n",
    "    grid = grid_button.value\n",
    "    color = color_buttons.value\n",
    "    title = title_textbox.value\n",
    "    bgcolor = color_buttons.value\n",
    "\n",
    "    t = np.linspace(xlim[0], xlim[1], 1000)\n",
    "    f, ax = plt.subplots(1, 1, figsize=(5, 3))\n",
    "    ax.plot(t, np.sin(2 * np.pi * freq * t),\n",
    "            color=color)\n",
    "    \n",
    "    f.suptitle(title)\n",
    "    ax.grid(grid)\n",
    "\n",
    "    \n",
    "# The on_click decorator of a button widget lets us react to click events\n",
    "# Here, we simply declare that the plotting function should be called \n",
    "# when the plot_button is pressed:\n",
    "@plot_button.on_click\n",
    "def plot_on_click(b):\n",
    "    plot2()"
   ]
  },
  {
   "cell_type": "code",
   "execution_count": 30,
   "id": "37a978df",
   "metadata": {},
   "outputs": [
    {
     "data": {
      "application/vnd.jupyter.widget-view+json": {
       "model_id": "c44a256ccbf244f2887af4c11aecbce0",
       "version_major": 2,
       "version_minor": 0
      },
      "text/plain": [
       "Button(description='Plot', style=ButtonStyle())"
      ]
     },
     "execution_count": 30,
     "metadata": {},
     "output_type": "execute_result"
    },
    {
     "data": {
      "image/png": "[encoded data removed]",
      "text/plain": [
       "<Figure size 500x300 with 1 Axes>"
      ]
     },
     "metadata": {},
     "output_type": "display_data"
    },
    {
     "data": {
      "image/png": "[encoded data removed]",
      "text/plain": [
       "<Figure size 500x300 with 1 Axes>"
      ]
     },
     "metadata": {},
     "output_type": "display_data"
    }
   ],
   "source": [
    "plot_button"
   ]
  },
  {
   "cell_type": "markdown",
   "id": "f03ff4ba",
   "metadata": {},
   "source": [
    "To display everything nicely"
   ]
  },
  {
   "cell_type": "code",
   "execution_count": 32,
   "id": "4710d3a0",
   "metadata": {},
   "outputs": [
    {
     "data": {
      "application/vnd.jupyter.widget-view+json": {
       "model_id": "74dab8ac2e924147a99d75e68abd756c",
       "version_major": 2,
       "version_minor": 0
      },
      "text/plain": [
       "VBox(children=(Tab(children=(VBox(children=(FloatSlider(value=2.0, description='Frequency:', max=6.0, min=1.0,…"
      ]
     },
     "execution_count": 32,
     "metadata": {},
     "output_type": "execute_result"
    },
    {
     "data": {
      "image/png": "[encoded data removed]",
      "text/plain": [
       "<Figure size 500x300 with 1 Axes>"
      ]
     },
     "metadata": {},
     "output_type": "display_data"
    }
   ],
   "source": [
    "tab1 = VBox(children=[freq_slider,range_slider])\n",
    "tab2 = VBox(children=[title_textbox,HBox(children=[color_buttons,grid_button]),])\n",
    "\n",
    "title_textbox.value = 'Hello plot!'\n",
    "tab = widgets.Tab(children=[tab1, tab2])\n",
    "tab.set_title(0, 'plot')\n",
    "tab.set_title(1, 'styling')\n",
    "VBox(children=[tab, plot_button])"
   ]
  },
  {
   "cell_type": "code",
   "execution_count": 33,
   "id": "07fb054a",
   "metadata": {
    "scrolled": false
   },
   "outputs": [
    {
     "data": {
      "application/vnd.jupyter.widget-view+json": {
       "model_id": "fc586f2e35614afabe8d60461ada1a3e",
       "version_major": 2,
       "version_minor": 0
      },
      "text/plain": [
       "interactive(children=(FloatSlider(value=2.0, description='Frequency:', max=6.0, min=1.0, readout_format='.1f',…"
      ]
     },
     "metadata": {},
     "output_type": "display_data"
    },
    {
     "data": {
      "text/plain": [
       "<function __main__.pol_plot(freq=4.0, color='blue')>"
      ]
     },
     "execution_count": 33,
     "metadata": {},
     "output_type": "execute_result"
    }
   ],
   "source": [
    "#@widgets.interact_manual(freq=freq_slider, color=color_buttons)\n",
    "def pol_plot(freq=4., color='blue'):\n",
    "    theta = np.linspace(0, 2 * np.pi, 400)\n",
    "    r = np.sin(freq*theta)\n",
    "    \n",
    "    fig, ax = plt.subplots(1, 1, subplot_kw=dict(projection='polar'))\n",
    "    ax.plot(theta,r, color=color, linestyle='dashed')\n",
    "    ax.grid(True)\n",
    "\n",
    "widgets.interact(pol_plot, freq=freq_slider, color=color_buttons)"
   ]
  },
  {
   "cell_type": "markdown",
   "id": "46863003",
   "metadata": {},
   "source": [
    "## Callbacks"
   ]
  },
  {
   "cell_type": "markdown",
   "id": "0ecf6bfd",
   "metadata": {},
   "source": [
    "Widgets can be connected to Python functions, enabling you to respond to changes in widget values. Here’s an example using a slider and a function that updates a plot based on the slider’s value:"
   ]
  },
  {
   "cell_type": "code",
   "execution_count": 34,
   "id": "85d5a1d9",
   "metadata": {},
   "outputs": [],
   "source": [
    "slider = widgets.IntSlider(value=0, min=0, max=100, step=1)\n",
    "output = widgets.Output()\n",
    "\n",
    "def handle_slider_change(change):\n",
    "    with output:\n",
    "        output.clear_output()\n",
    "        print(f\"The new slider value is: {change.new}\")"
   ]
  },
  {
   "cell_type": "code",
   "execution_count": 35,
   "id": "d51a2b5c",
   "metadata": {},
   "outputs": [
    {
     "data": {
      "application/vnd.jupyter.widget-view+json": {
       "model_id": "413f638ed26d46d8bec7d7f23d0fa7af",
       "version_major": 2,
       "version_minor": 0
      },
      "text/plain": [
       "VBox(children=(IntSlider(value=0), Output()))"
      ]
     },
     "execution_count": 35,
     "metadata": {},
     "output_type": "execute_result"
    }
   ],
   "source": [
    "slider.observe(handle_slider_change, 'value')\n",
    "widgets.VBox([slider, output])"
   ]
  },
  {
   "cell_type": "markdown",
   "id": "bd7d4e49",
   "metadata": {},
   "source": [
    "## Use Widgets for better Exploratory Data Analysis (EDA) experience"
   ]
  },
  {
   "cell_type": "markdown",
   "id": "bb7206d1",
   "metadata": {},
   "source": [
    "In this part, we are going to use some popular widgets to perform some EDA tasks such as find mean, median and plot some graphs. We are going to use the Penguine Dataset which can be found here https://www.kaggle.com/datasets/parulpandey/palmer-archipelago-antarctica-penguin-data?select=penguins_size.csv."
   ]
  },
  {
   "cell_type": "code",
   "execution_count": 2,
   "id": "a22872b3",
   "metadata": {},
   "outputs": [
    {
     "name": "stdout",
     "output_type": "stream",
     "text": [
      "species\n",
      "island\n",
      "culmen_length_mm\n",
      "culmen_depth_mm\n",
      "flipper_length_mm\n",
      "body_mass_g\n",
      "sex\n"
     ]
    }
   ],
   "source": [
    "import pandas as pd\n",
    "import seaborn as sbn\n",
    "\n",
    "penguins = pd.read_csv('Data Science/penguins_size.csv')\n",
    "\n",
    "# get column names\n",
    "for col in penguins:\n",
    "    print(col)"
   ]
  },
  {
   "cell_type": "code",
   "execution_count": 3,
   "id": "80f1f18f",
   "metadata": {},
   "outputs": [
    {
     "data": {
      "text/html": [
       "<div>\n",
       "<style scoped>\n",
       "    .dataframe tbody tr th:only-of-type {\n",
       "        vertical-align: middle;\n",
       "    }\n",
       "\n",
       "    .dataframe tbody tr th {\n",
       "        vertical-align: top;\n",
       "    }\n",
       "\n",
       "    .dataframe thead th {\n",
       "        text-align: right;\n",
       "    }\n",
       "</style>\n",
       "<table border=\"1\" class=\"dataframe\">\n",
       "  <thead>\n",
       "    <tr style=\"text-align: right;\">\n",
       "      <th></th>\n",
       "      <th>species</th>\n",
       "      <th>island</th>\n",
       "      <th>culmen_length_mm</th>\n",
       "      <th>culmen_depth_mm</th>\n",
       "      <th>flipper_length_mm</th>\n",
       "      <th>body_mass_g</th>\n",
       "      <th>sex</th>\n",
       "    </tr>\n",
       "  </thead>\n",
       "  <tbody>\n",
       "    <tr>\n",
       "      <th>0</th>\n",
       "      <td>Adelie</td>\n",
       "      <td>Torgersen</td>\n",
       "      <td>39.1</td>\n",
       "      <td>18.7</td>\n",
       "      <td>181.0</td>\n",
       "      <td>3750.0</td>\n",
       "      <td>MALE</td>\n",
       "    </tr>\n",
       "    <tr>\n",
       "      <th>1</th>\n",
       "      <td>Adelie</td>\n",
       "      <td>Torgersen</td>\n",
       "      <td>39.5</td>\n",
       "      <td>17.4</td>\n",
       "      <td>186.0</td>\n",
       "      <td>3800.0</td>\n",
       "      <td>FEMALE</td>\n",
       "    </tr>\n",
       "    <tr>\n",
       "      <th>2</th>\n",
       "      <td>Adelie</td>\n",
       "      <td>Torgersen</td>\n",
       "      <td>40.3</td>\n",
       "      <td>18.0</td>\n",
       "      <td>195.0</td>\n",
       "      <td>3250.0</td>\n",
       "      <td>FEMALE</td>\n",
       "    </tr>\n",
       "    <tr>\n",
       "      <th>3</th>\n",
       "      <td>Adelie</td>\n",
       "      <td>Torgersen</td>\n",
       "      <td>NaN</td>\n",
       "      <td>NaN</td>\n",
       "      <td>NaN</td>\n",
       "      <td>NaN</td>\n",
       "      <td>NaN</td>\n",
       "    </tr>\n",
       "    <tr>\n",
       "      <th>4</th>\n",
       "      <td>Adelie</td>\n",
       "      <td>Torgersen</td>\n",
       "      <td>36.7</td>\n",
       "      <td>19.3</td>\n",
       "      <td>193.0</td>\n",
       "      <td>3450.0</td>\n",
       "      <td>FEMALE</td>\n",
       "    </tr>\n",
       "  </tbody>\n",
       "</table>\n",
       "</div>"
      ],
      "text/plain": [
       "  species     island  culmen_length_mm  culmen_depth_mm  flipper_length_mm  \\\n",
       "0  Adelie  Torgersen              39.1             18.7              181.0   \n",
       "1  Adelie  Torgersen              39.5             17.4              186.0   \n",
       "2  Adelie  Torgersen              40.3             18.0              195.0   \n",
       "3  Adelie  Torgersen               NaN              NaN                NaN   \n",
       "4  Adelie  Torgersen              36.7             19.3              193.0   \n",
       "\n",
       "   body_mass_g     sex  \n",
       "0       3750.0    MALE  \n",
       "1       3800.0  FEMALE  \n",
       "2       3250.0  FEMALE  \n",
       "3          NaN     NaN  \n",
       "4       3450.0  FEMALE  "
      ]
     },
     "execution_count": 3,
     "metadata": {},
     "output_type": "execute_result"
    }
   ],
   "source": [
    "penguins.head()"
   ]
  },
  {
   "cell_type": "code",
   "execution_count": 4,
   "id": "93c06aa7",
   "metadata": {},
   "outputs": [],
   "source": [
    "def eda_widget(sex, island, species):\n",
    "    # Filter the dataset based on the selected widget values\n",
    "    df = penguins[(penguins['sex'] == sex) & (penguins['island'] == island) & (penguins['species'] == species)]\n",
    "\n",
    "    # Compute some summary statistics\n",
    "    num_rows = len(df)\n",
    "    mean_body_mass = df['body_mass_g'].mean()\n",
    "    median_body_mass = df['body_mass_g'].median()\n",
    "\n",
    "    sexcolors = {'MALE':'c','FEMALE':'magenta'}\n",
    "    specolors = {'Adelie':'lime', 'Chinstrap':'green', 'Gentoo':'darkgreen'}\n",
    "    \n",
    "    # Create some plots\n",
    "    fig, axs = plt.subplots(ncols=2, figsize=(12, 6))\n",
    "    #sbn.histplot(data=df, x='culmen_length_mm', hue='sex', ax=axs[0])\n",
    "    sbn.histplot(data=df, x='culmen_length_mm', color=sexcolors[sex], ax=axs[0])\n",
    "    axs[0].set_title('Distribution of culmen length by sex')\n",
    "    #sbn.scatterplot(data=df, x='culmen_depth_mm', y='body_mass_g', hue='species')\n",
    "    sbn.scatterplot(data=df, x='culmen_depth_mm', y='body_mass_g', color=specolors[species])\n",
    "    axs[1].set_title('Scatter plot of culmen depth vs. body mass by species')\n",
    "    plt.show()\n",
    "\n",
    "    # Display the summary statistics\n",
    "    print(f\"Number of penguins: {num_rows}\")\n",
    "    print(f\"Mean body mass: {mean_body_mass:.2f} g\")\n",
    "    print(f\"Median body mass: {median_body_mass:.2f} g\")\n"
   ]
  },
  {
   "cell_type": "code",
   "execution_count": 5,
   "id": "9880c780",
   "metadata": {},
   "outputs": [],
   "source": [
    "sex_widget = widgets.Dropdown(options=['MALE', 'FEMALE'], description='Sex:')\n",
    "island_widget = widgets.Dropdown(options=['Biscoe', 'Dream', 'Torgersen'], description='Island:')\n",
    "species_widget = widgets.Dropdown(options=['Adelie', 'Chinstrap', 'Gentoo'], description='Species:')"
   ]
  },
  {
   "cell_type": "code",
   "execution_count": 6,
   "id": "1e99436f",
   "metadata": {
    "scrolled": false
   },
   "outputs": [
    {
     "data": {
      "application/vnd.jupyter.widget-view+json": {
       "model_id": "62e33480c39a4e7091ea14bc7cf572f6",
       "version_major": 2,
       "version_minor": 0
      },
      "text/plain": [
       "interactive(children=(Dropdown(description='Sex:', options=('MALE', 'FEMALE'), value='MALE'), Dropdown(descrip…"
      ]
     },
     "metadata": {},
     "output_type": "display_data"
    }
   ],
   "source": [
    "widgets.interact(eda_widget, sex=sex_widget, island=island_widget, species=species_widget);"
   ]
  },
  {
   "cell_type": "code",
   "execution_count": null,
   "id": "4a02052b",
   "metadata": {},
   "outputs": [],
   "source": []
  },
  {
   "cell_type": "code",
   "execution_count": null,
   "id": "1658db47",
   "metadata": {},
   "outputs": [],
   "source": []
  }
 ],
 "metadata": {
  "kernelspec": {
   "display_name": "Python 3 (ipykernel)",
   "language": "python",
   "name": "python3"
  },
  "language_info": {
   "codemirror_mode": {
    "name": "ipython",
    "version": 3
   },
   "file_extension": ".py",
   "mimetype": "text/x-python",
   "name": "python",
   "nbconvert_exporter": "python",
   "pygments_lexer": "ipython3",
   "version": "3.11.5"
  }
 },
 "nbformat": 4,
 "nbformat_minor": 5
}
